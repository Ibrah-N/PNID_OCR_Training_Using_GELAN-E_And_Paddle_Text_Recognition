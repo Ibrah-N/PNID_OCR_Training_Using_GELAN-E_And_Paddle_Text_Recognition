{
  "cells": [
    {
      "cell_type": "markdown",
      "metadata": {
        "id": "DQjdUKvQigN2"
      },
      "source": [
        "# Train YOLOv9 on a Custom Dataset\n",
        "\n",
        "1.   List item\n",
        "2.   List item\n",
        "\n",
        "\n",
        "---\n",
        "\n",
        "\n",
        "[![GitHub](https://badges.aleen42.com/src/github.svg)](https://github.com/WongKinYiu/yolov9)\n",
        "[![arXiv](https://img.shields.io/badge/arXiv-2402.13616-b31b1b.svg)](https://arxiv.org/pdf/2402.13616.pdf)"
      ]
    },
    {
      "cell_type": "markdown",
      "metadata": {
        "id": "UTprsNjHja4l"
      },
      "source": [
        "**NOTE:** To make it easier for us to manage datasets, images and models we create a `HOME` constant."
      ]
    },
    {
      "cell_type": "code",
      "execution_count": 2,
      "metadata": {
        "colab": {
          "base_uri": "https://localhost:8080/"
        },
        "id": "rowKDIT-jJ9k",
        "outputId": "25c74514-8b3d-4d95-ad85-9d8a4eb61411"
      },
      "outputs": [
        {
          "output_type": "stream",
          "name": "stdout",
          "text": [
            "/content\n"
          ]
        }
      ],
      "source": [
        "import os\n",
        "HOME = os.getcwd()\n",
        "print(HOME)"
      ]
    },
    {
      "cell_type": "markdown",
      "metadata": {
        "id": "qWRGGT7Zjjbq"
      },
      "source": [
        "## Clone and Install"
      ]
    },
    {
      "cell_type": "markdown",
      "metadata": {
        "id": "9WyY-fboBLZB"
      },
      "source": [
        "**NOTE:** YOLOv9 is very new. At the moment, we recommend using a fork of the main repository. The `detect.py` script contains a bug that prevents inference. This bug is patched in the fork."
      ]
    },
    {
      "cell_type": "code",
      "execution_count": 4,
      "metadata": {
        "colab": {
          "base_uri": "https://localhost:8080/"
        },
        "id": "pixgo4qnjdoU",
        "outputId": "74bffdf2-bfbd-4b92-ecbd-3d5fccb8b19d"
      },
      "outputs": [
        {
          "output_type": "stream",
          "name": "stdout",
          "text": [
            "Cloning into 'yolov9'...\n",
            "remote: Enumerating objects: 325, done.\u001b[K\n",
            "remote: Counting objects:   0% (1/190)\u001b[K\rremote: Counting objects:   1% (2/190)\u001b[K\rremote: Counting objects:   2% (4/190)\u001b[K\rremote: Counting objects:   3% (6/190)\u001b[K\rremote: Counting objects:   4% (8/190)\u001b[K\rremote: Counting objects:   5% (10/190)\u001b[K\rremote: Counting objects:   6% (12/190)\u001b[K\rremote: Counting objects:   7% (14/190)\u001b[K\rremote: Counting objects:   8% (16/190)\u001b[K\rremote: Counting objects:   9% (18/190)\u001b[K\rremote: Counting objects:  10% (19/190)\u001b[K\rremote: Counting objects:  11% (21/190)\u001b[K\rremote: Counting objects:  12% (23/190)\u001b[K\rremote: Counting objects:  13% (25/190)\u001b[K\rremote: Counting objects:  14% (27/190)\u001b[K\rremote: Counting objects:  15% (29/190)\u001b[K\rremote: Counting objects:  16% (31/190)\u001b[K\rremote: Counting objects:  17% (33/190)\u001b[K\rremote: Counting objects:  18% (35/190)\u001b[K\rremote: Counting objects:  19% (37/190)\u001b[K\rremote: Counting objects:  20% (38/190)\u001b[K\rremote: Counting objects:  21% (40/190)\u001b[K\rremote: Counting objects:  22% (42/190)\u001b[K\rremote: Counting objects:  23% (44/190)\u001b[K\rremote: Counting objects:  24% (46/190)\u001b[K\rremote: Counting objects:  25% (48/190)\u001b[K\rremote: Counting objects:  26% (50/190)\u001b[K\rremote: Counting objects:  27% (52/190)\u001b[K\rremote: Counting objects:  28% (54/190)\u001b[K\rremote: Counting objects:  29% (56/190)\u001b[K\rremote: Counting objects:  30% (57/190)\u001b[K\rremote: Counting objects:  31% (59/190)\u001b[K\rremote: Counting objects:  32% (61/190)\u001b[K\rremote: Counting objects:  33% (63/190)\u001b[K\rremote: Counting objects:  34% (65/190)\u001b[K\rremote: Counting objects:  35% (67/190)\u001b[K\rremote: Counting objects:  36% (69/190)\u001b[K\rremote: Counting objects:  37% (71/190)\u001b[K\rremote: Counting objects:  38% (73/190)\u001b[K\rremote: Counting objects:  39% (75/190)\u001b[K\rremote: Counting objects:  40% (76/190)\u001b[K\rremote: Counting objects:  41% (78/190)\u001b[K\rremote: Counting objects:  42% (80/190)\u001b[K\rremote: Counting objects:  43% (82/190)\u001b[K\rremote: Counting objects:  44% (84/190)\u001b[K\rremote: Counting objects:  45% (86/190)\u001b[K\rremote: Counting objects:  46% (88/190)\u001b[K\rremote: Counting objects:  47% (90/190)\u001b[K\rremote: Counting objects:  48% (92/190)\u001b[K\rremote: Counting objects:  49% (94/190)\u001b[K\rremote: Counting objects:  50% (95/190)\u001b[K\rremote: Counting objects:  51% (97/190)\u001b[K\rremote: Counting objects:  52% (99/190)\u001b[K\rremote: Counting objects:  53% (101/190)\u001b[K\rremote: Counting objects:  54% (103/190)\u001b[K\rremote: Counting objects:  55% (105/190)\u001b[K\rremote: Counting objects:  56% (107/190)\u001b[K\rremote: Counting objects:  57% (109/190)\u001b[K\rremote: Counting objects:  58% (111/190)\u001b[K\rremote: Counting objects:  59% (113/190)\u001b[K\rremote: Counting objects:  60% (114/190)\u001b[K\rremote: Counting objects:  61% (116/190)\u001b[K\rremote: Counting objects:  62% (118/190)\u001b[K\rremote: Counting objects:  63% (120/190)\u001b[K\rremote: Counting objects:  64% (122/190)\u001b[K\rremote: Counting objects:  65% (124/190)\u001b[K\rremote: Counting objects:  66% (126/190)\u001b[K\rremote: Counting objects:  67% (128/190)\u001b[K\rremote: Counting objects:  68% (130/190)\u001b[K\rremote: Counting objects:  69% (132/190)\u001b[K\rremote: Counting objects:  70% (133/190)\u001b[K\rremote: Counting objects:  71% (135/190)\u001b[K\rremote: Counting objects:  72% (137/190)\u001b[K\rremote: Counting objects:  73% (139/190)\u001b[K\rremote: Counting objects:  74% (141/190)\u001b[K\rremote: Counting objects:  75% (143/190)\u001b[K\rremote: Counting objects:  76% (145/190)\u001b[K\rremote: Counting objects:  77% (147/190)\u001b[K\rremote: Counting objects:  78% (149/190)\u001b[K\rremote: Counting objects:  79% (151/190)\u001b[K\rremote: Counting objects:  80% (152/190)\u001b[K\rremote: Counting objects:  81% (154/190)\u001b[K\rremote: Counting objects:  82% (156/190)\u001b[K\rremote: Counting objects:  83% (158/190)\u001b[K\rremote: Counting objects:  84% (160/190)\u001b[K\rremote: Counting objects:  85% (162/190)\u001b[K\rremote: Counting objects:  86% (164/190)\u001b[K\rremote: Counting objects:  87% (166/190)\u001b[K\rremote: Counting objects:  88% (168/190)\u001b[K\rremote: Counting objects:  89% (170/190)\u001b[K\rremote: Counting objects:  90% (171/190)\u001b[K\rremote: Counting objects:  91% (173/190)\u001b[K\rremote: Counting objects:  92% (175/190)\u001b[K\rremote: Counting objects:  93% (177/190)\u001b[K\rremote: Counting objects:  94% (179/190)\u001b[K\rremote: Counting objects:  95% (181/190)\u001b[K\rremote: Counting objects:  96% (183/190)\u001b[K\rremote: Counting objects:  97% (185/190)\u001b[K\rremote: Counting objects:  98% (187/190)\u001b[K\rremote: Counting objects:  99% (189/190)\u001b[K\rremote: Counting objects: 100% (190/190)\u001b[K\rremote: Counting objects: 100% (190/190), done.\u001b[K\n",
            "remote: Compressing objects: 100% (48/48), done.\u001b[K\n",
            "remote: Total 325 (delta 145), reused 142 (delta 142), pack-reused 135 (from 1)\u001b[K\n",
            "Receiving objects: 100% (325/325), 2.23 MiB | 27.90 MiB/s, done.\n",
            "Resolving deltas: 100% (165/165), done.\n",
            "/content/yolov9/yolov9\n",
            "\u001b[2K   \u001b[90m━━━━━━━━━━━━━━━━━━━━━━━━━━━━━━━━━━━━━━━━\u001b[0m \u001b[32m664.8/664.8 MB\u001b[0m \u001b[31m2.7 MB/s\u001b[0m eta \u001b[36m0:00:00\u001b[0m\n",
            "\u001b[?25h"
          ]
        }
      ],
      "source": [
        "!git clone https://github.com/SkalskiP/yolov9.git\n",
        "%cd yolov9\n",
        "\n",
        "!pip install -r requirements.txt -q"
      ]
    },
    {
      "cell_type": "code",
      "execution_count": 5,
      "metadata": {
        "colab": {
          "base_uri": "https://localhost:8080/"
        },
        "id": "Pjs9ENW54IaT",
        "outputId": "eff2dcfe-1783-431d-9421-26aee10d0912"
      },
      "outputs": [
        {
          "output_type": "stream",
          "name": "stdout",
          "text": [
            "/content\n",
            "Mounted at /content/drive\n"
          ]
        }
      ],
      "source": [
        "%cd /content/\n",
        "\n",
        "from google.colab import drive\n",
        "drive.mount('/content/drive')"
      ]
    },
    {
      "cell_type": "code",
      "execution_count": 6,
      "metadata": {
        "id": "Bj_BIoYVr3Km"
      },
      "outputs": [],
      "source": [
        "# copy the weights\n",
        "\n",
        "!mkdir /content/weights/\n",
        "!cp -r /content/drive/MyDrive/OCR-Custom-Dataset/models/YOLOv9-gelan-e/weights_v6_1792/* {HOME}/weights"
      ]
    },
    {
      "cell_type": "code",
      "execution_count": 7,
      "metadata": {
        "colab": {
          "base_uri": "https://localhost:8080/"
        },
        "id": "Au6np1JS8eRB",
        "outputId": "20ddeacd-af03-441b-ecaa-546499797fcf"
      },
      "outputs": [
        {
          "output_type": "stream",
          "name": "stdout",
          "text": [
            "total 911952\n",
            "drwxr-xr-x 2 root root      4096 May 27 06:26 .\n",
            "drwxr-xr-x 1 root root      4096 May 27 06:26 ..\n",
            "-rw------- 1 root root 466907182 May 27 06:26 best.pt\n",
            "-rw------- 1 root root 466907182 May 27 06:26 last.pt\n"
          ]
        }
      ],
      "source": [
        "\n",
        "!ls -la /content/weights/"
      ]
    },
    {
      "cell_type": "markdown",
      "metadata": {
        "id": "CTbGpF2IsZ24"
      },
      "source": [
        "# Train Custom Model"
      ]
    },
    {
      "cell_type": "markdown",
      "metadata": {
        "id": "x_bRwRSOc6-w"
      },
      "source": [
        "## Datatset Preperation\n",
        "\n",
        "- Yolo Format Dataset\n",
        "  - dataset\n",
        "      - train\n",
        "        - images\n",
        "        - labels\n",
        "      - val\n",
        "        - images\n",
        "        - labels\n",
        "\n",
        "\n",
        "\n",
        "- The Image and labels file name should be same\n",
        "- The images to be store within the images directory (img.jpg)\n",
        "- labels format (img.txt)\n",
        "  - each labels should have the following structure\n",
        "  - class, xc, yc, w, h      <---  Normalized values"
      ]
    },
    {
      "cell_type": "code",
      "execution_count": 8,
      "metadata": {
        "colab": {
          "base_uri": "https://localhost:8080/"
        },
        "id": "WJNUSqqxp17a",
        "outputId": "fede36b1-0525-4c9e-910c-fcbaf52d2ff9"
      },
      "outputs": [
        {
          "output_type": "stream",
          "name": "stdout",
          "text": [
            "/content\n"
          ]
        }
      ],
      "source": [
        "%cd /content/"
      ]
    },
    {
      "cell_type": "code",
      "execution_count": null,
      "metadata": {
        "id": "3RxkdOdUxDCq"
      },
      "outputs": [],
      "source": [
        "!rm -rf /content/dataset"
      ]
    },
    {
      "cell_type": "code",
      "execution_count": 9,
      "metadata": {
        "id": "dGi2MTMroxks"
      },
      "outputs": [],
      "source": [
        "# dataset directory structure\n",
        "!mkdir /content/dataset\n",
        "!mkdir /content/dataset/train\n",
        "!mkdir /content/dataset/train/images\n",
        "!mkdir /content/dataset/train/labels\n",
        "!mkdir /content/dataset/val\n",
        "!mkdir /content/dataset/val/images\n",
        "!mkdir /content/dataset/val/labels"
      ]
    },
    {
      "cell_type": "code",
      "execution_count": 10,
      "metadata": {
        "id": "Ni12NDb21tT0"
      },
      "outputs": [],
      "source": [
        "!mkdir raw_dataset\n",
        "!unzip -q /content/drive/MyDrive/OCR-Custom-Dataset/custom-dataset-v2.zip -d /content/raw_dataset/"
      ]
    },
    {
      "cell_type": "code",
      "execution_count": 11,
      "metadata": {
        "colab": {
          "base_uri": "https://localhost:8080/"
        },
        "id": "bYDFtoINW4pj",
        "outputId": "b80a3a15-51ad-4414-cb7f-567b9a14689c"
      },
      "outputs": [
        {
          "output_type": "stream",
          "name": "stdout",
          "text": [
            "180\n"
          ]
        }
      ],
      "source": [
        "print(len(os.listdir(\"/content/raw_dataset/images\")))"
      ]
    },
    {
      "cell_type": "code",
      "execution_count": 12,
      "metadata": {
        "id": "Vkp79_nCpXU_"
      },
      "outputs": [],
      "source": [
        "# move the images into images directory\n",
        "!mv /content/raw_dataset/images/* /content/dataset/train/images/\n",
        "\n",
        "\n",
        "# move the labels into labels directory\n",
        "!mv /content/raw_dataset/labels/* /content/dataset/train/labels/"
      ]
    },
    {
      "cell_type": "code",
      "execution_count": 13,
      "metadata": {
        "id": "HWp5er6j4c-2"
      },
      "outputs": [],
      "source": [
        "!rm -rf /content/raw_dataset"
      ]
    },
    {
      "cell_type": "code",
      "execution_count": null,
      "metadata": {
        "id": "lz1nGJYEQpdF"
      },
      "outputs": [],
      "source": []
    },
    {
      "cell_type": "code",
      "execution_count": 14,
      "metadata": {
        "id": "uH5627SdQpai"
      },
      "outputs": [],
      "source": [
        "# copy second dataset\n",
        "!mkdir raw_dataset\n",
        "!unzip -q /content/drive/MyDrive/OCR-Custom-Dataset/custom-dataset-v2-v1-long.zip -d /content/raw_dataset/"
      ]
    },
    {
      "cell_type": "code",
      "execution_count": 15,
      "metadata": {
        "id": "La5fIw4xRFQb"
      },
      "outputs": [],
      "source": [
        "# move the images into images directory\n",
        "!mv /content/raw_dataset/images/* /content/dataset/train/images/\n",
        "\n",
        "\n",
        "# move the labels into labels directory\n",
        "!mv /content/raw_dataset/labels/* /content/dataset/train/labels/"
      ]
    },
    {
      "cell_type": "code",
      "execution_count": 24,
      "metadata": {
        "id": "1qXNw-OLRFC2",
        "colab": {
          "base_uri": "https://localhost:8080/"
        },
        "outputId": "b5790716-dbff-48e8-ae81-475b8508c791"
      },
      "outputs": [
        {
          "output_type": "stream",
          "name": "stdout",
          "text": [
            "/content\n"
          ]
        }
      ],
      "source": [
        "%cd /content/"
      ]
    },
    {
      "cell_type": "code",
      "execution_count": null,
      "metadata": {
        "id": "cvI7UcV-pXS0"
      },
      "outputs": [],
      "source": [
        "# move two samples into validation\n",
        "# 1\n",
        "!mv /content/dataset/train/images/e0b8f04a-images-84.jpg /content/dataset/val/images/\n",
        "!mv /content/dataset/train/labels/e0b8f04a-images-84.txt /content/dataset/val/labels/\n",
        "\n",
        "#2\n",
        "!mv /content/dataset/train/images/96d3c66d-images-24.jpg /content/dataset/val/images/\n",
        "!mv /content/dataset/train/labels/96d3c66d-images-24.txt /content/dataset/val/labels/\n",
        "\n",
        "#3\n",
        "!mv /content/dataset/train/images/8cb077b7-images-98.jpg /content/dataset/val/images/\n",
        "!mv /content/dataset/train/labels/8cb077b7-images-98.txt /content/dataset/val/labels/\n",
        "\n",
        "#3\n",
        "!mv /content/dataset/train/images/4a46e8f4-images-0.jpg /content/dataset/val/images/\n",
        "!mv /content/dataset/train/labels/4a46e8f4-images-0.txt /content/dataset/val/labels/\n",
        "\n",
        "#4\n",
        "!mv /content/dataset/train/images/4d95ce6f-images-63.jpg /content/dataset/val/images/\n",
        "!mv /content/dataset/train/labels/4d95ce6f-images-63.txt /content/dataset/val/labels/\n",
        "\n",
        "#5\n",
        "!mv /content/dataset/train/images/52024d01-images-7.jpg /content/dataset/val/images/\n",
        "!mv /content/dataset/train/labels/52024d01-images-7.txt /content/dataset/val/labels/\n",
        "\n",
        "#6\n",
        "!mv /content/dataset/train/images/a658321d-images-96.jpg /content/dataset/val/images/\n",
        "!mv /content/dataset/train/labels/a658321d-images-96.txt /content/dataset/val/labels/\n",
        "\n",
        "#7\n",
        "!mv /content/dataset/train/images/a6400752-images-10.jpg /content/dataset/val/images/\n",
        "!mv /content/dataset/train/labels/a6400752-images-10.txt /content/dataset/val/labels/\n",
        "\n",
        "#8\n",
        "!mv /content/dataset/train/images/f2004b9d-images-3.jpg /content/dataset/val/images/\n",
        "!mv /content/dataset/train/labels/f2004b9d-images-3.txt /content/dataset/val/labels/\n",
        "\n",
        "#9\n",
        "!mv /content/dataset/train/images/f342d8dc-images-26.jpg /content/dataset/val/images/\n",
        "!mv /content/dataset/train/labels/f342d8dc-images-26.txt /content/dataset/val/labels/\n",
        "\n",
        "#10\n",
        "!mv /content/dataset/train/images/cfeafc27-images-32.jpg /content/dataset/val/images/\n",
        "!mv /content/dataset/train/labels/cfeafc27-images-32.txt /content/dataset/val/labels/\n",
        "\n",
        "#11\n",
        "!mv /content/dataset/train/images/aug_0_48cef899-3_2.jpg /content/dataset/val/images/\n",
        "!mv /content/dataset/train/labels/aug_0_48cef899-3_2.txt /content/dataset/val/labels/\n",
        "\n",
        "#12\n",
        "!mv /content/dataset/train/images/aug_0_895ba3bc-1.jpg /content/dataset/val/images/\n",
        "!mv /content/dataset/train/labels/aug_0_895ba3bc-1.txt /content/dataset/val/labels/"
      ]
    },
    {
      "cell_type": "code",
      "execution_count": null,
      "metadata": {
        "id": "ecC2aXa6U_On"
      },
      "outputs": [],
      "source": []
    },
    {
      "cell_type": "code",
      "execution_count": null,
      "metadata": {
        "id": "LKO-B_5fPXVa"
      },
      "outputs": [],
      "source": [
        "!rm -rf /content/raw_dataset"
      ]
    },
    {
      "cell_type": "code",
      "execution_count": null,
      "metadata": {
        "id": "UeUj_sPpPTUP"
      },
      "outputs": [],
      "source": [
        "# copy second dataset\n",
        "!mkdir raw_dataset\n",
        "!unzip -q /content/drive/MyDrive/OCR-Custom-Dataset/custom-dataset-fractiion-imporovement.zip -d /content/raw_dataset/"
      ]
    },
    {
      "cell_type": "code",
      "execution_count": null,
      "metadata": {
        "id": "ASxNVCJRPTQE"
      },
      "outputs": [],
      "source": [
        "# move the images into images directory\n",
        "!mv /content/raw_dataset/images/* /content/dataset/train/images/\n",
        "\n",
        "\n",
        "# move the labels into labels directory\n",
        "!mv /content/raw_dataset/labels/* /content/dataset/train/labels/"
      ]
    },
    {
      "cell_type": "code",
      "execution_count": null,
      "metadata": {
        "id": "aXRzu0E54kMR"
      },
      "outputs": [],
      "source": []
    },
    {
      "cell_type": "code",
      "source": [
        "# unzip the third images\n",
        "\n",
        "!unzip /content/project-3-at-2025-05-20-14-35-1549ca81.zip"
      ],
      "metadata": {
        "id": "nn4wsl5KHJM6"
      },
      "execution_count": null,
      "outputs": []
    },
    {
      "cell_type": "code",
      "source": [
        "# copy images and labels into dataset train and labels\n",
        "!cp -r /content/images/* /content/dataset/train/images/\n",
        "!cp -r /content/labels/* /content/dataset/train/labels/"
      ],
      "metadata": {
        "id": "mbpTJiHSHYPR"
      },
      "execution_count": null,
      "outputs": []
    },
    {
      "cell_type": "code",
      "source": [],
      "metadata": {
        "id": "EU2f0x6SHYFC"
      },
      "execution_count": null,
      "outputs": []
    },
    {
      "cell_type": "code",
      "execution_count": null,
      "metadata": {
        "colab": {
          "base_uri": "https://localhost:8080/"
        },
        "id": "4MWiHhoFPmGb",
        "outputId": "d9e674f6-8956-4a7a-d3d2-6c4aa5f8dd5a"
      },
      "outputs": [
        {
          "output_type": "stream",
          "name": "stdout",
          "text": [
            "Training Images & Labels\n",
            "337\n",
            "337\n",
            "\n",
            "Validation Images & Labels\n",
            "13\n",
            "13\n"
          ]
        }
      ],
      "source": [
        "import os\n",
        "\n",
        "print(\"Training Images & Labels\")\n",
        "print(len(os.listdir(\"/content/dataset/train/images\")))\n",
        "print(len(os.listdir(\"/content/dataset/train/labels\")))\n",
        "\n",
        "\n",
        "print(\"\\nValidation Images & Labels\")\n",
        "print(len(os.listdir(\"/content/dataset/val/images\")))\n",
        "print(len(os.listdir(\"/content/dataset/val/labels\")))"
      ]
    },
    {
      "cell_type": "code",
      "execution_count": 16,
      "metadata": {
        "id": "q5VXXyCc9mL5"
      },
      "outputs": [],
      "source": [
        "## cropping the image of shape 2048x2048 into shpae of 1792x1792\n",
        "## and also it by defualt skip the images with 1792x1792\n",
        "## this script it for train images\n",
        "\n",
        "\n",
        "import os\n",
        "import cv2\n",
        "import shutil\n",
        "\n",
        "\n",
        "# INPUT PATHS\n",
        "IMAGE_DIR = '/content/dataset/train/images'       # input image folder\n",
        "LABEL_DIR = '/content/dataset/train/labels'       # input label folder (YOLO format)\n",
        "\n",
        "# OUTPUT PATHS\n",
        "OUT_IMAGE_DIR = '/content/dataset/train/image'\n",
        "OUT_LABEL_DIR = '/content/dataset/train/label'\n",
        "\n",
        "# Ensure output folders exist\n",
        "os.makedirs(OUT_IMAGE_DIR, exist_ok=True)\n",
        "os.makedirs(OUT_LABEL_DIR, exist_ok=True)\n",
        "\n",
        "# Parameters\n",
        "ORIG_SIZE = 2048\n",
        "TARGET_SIZE = 1792\n",
        "OFFSET = (ORIG_SIZE - TARGET_SIZE) // 2\n",
        "\n",
        "def process_image_and_label(image_path, label_path, out_img_path, out_lbl_path):\n",
        "    img = cv2.imread(image_path)\n",
        "    if img is None or img.shape[0] != ORIG_SIZE or img.shape[1] != ORIG_SIZE:\n",
        "\n",
        "        cv2.imwrite(out_img_path, img)\n",
        "        # Write updated label file\n",
        "        shutil.copy2(label_path, out_lbl_path)\n",
        "        return\n",
        "\n",
        "    # Crop center\n",
        "    cropped = img[OFFSET:OFFSET+TARGET_SIZE, OFFSET:OFFSET+TARGET_SIZE]\n",
        "    cv2.imwrite(out_img_path, cropped)\n",
        "\n",
        "    # Process label file\n",
        "    with open(label_path, 'r') as f:\n",
        "        lines = f.readlines()\n",
        "\n",
        "    new_labels = []\n",
        "    for line in lines:\n",
        "        parts = line.strip().split()\n",
        "        if len(parts) != 5:\n",
        "            continue\n",
        "\n",
        "        cls, x, y, w, h = parts\n",
        "        x, y, w, h = map(float, [x, y, w, h])\n",
        "\n",
        "        # Convert to absolute\n",
        "        x_abs = x * ORIG_SIZE\n",
        "        y_abs = y * ORIG_SIZE\n",
        "        w_abs = w * ORIG_SIZE\n",
        "        h_abs = h * ORIG_SIZE\n",
        "\n",
        "        # Adjust for cropping\n",
        "        x_abs -= OFFSET\n",
        "        y_abs -= OFFSET\n",
        "\n",
        "        # Skip boxes that fall outside\n",
        "        if (x_abs < 0 or x_abs > TARGET_SIZE or\n",
        "            y_abs < 0 or y_abs > TARGET_SIZE):\n",
        "            continue\n",
        "\n",
        "        # Clip boxes to stay within bounds\n",
        "        x_abs = min(max(x_abs, 0), TARGET_SIZE)\n",
        "        y_abs = min(max(y_abs, 0), TARGET_SIZE)\n",
        "        w_abs = min(w_abs, TARGET_SIZE)\n",
        "        h_abs = min(h_abs, TARGET_SIZE)\n",
        "\n",
        "        # Normalize for new image\n",
        "        x_new = x_abs / TARGET_SIZE\n",
        "        y_new = y_abs / TARGET_SIZE\n",
        "        w_new = w_abs / TARGET_SIZE\n",
        "        h_new = h_abs / TARGET_SIZE\n",
        "\n",
        "        new_labels.append(f\"{cls} {x_new:.6f} {y_new:.6f} {w_new:.6f} {h_new:.6f}\")\n",
        "\n",
        "    # Write updated label file\n",
        "    with open(out_lbl_path, 'w') as f:\n",
        "        f.write('\\n'.join(new_labels) + '\\n')\n",
        "\n",
        "\n",
        "# Main loop\n",
        "for fname in os.listdir(IMAGE_DIR):\n",
        "    if fname.endswith('.jpg') or fname.endswith('.png'):\n",
        "        base = os.path.splitext(fname)[0]\n",
        "        image_path = os.path.join(IMAGE_DIR, fname)\n",
        "        label_path = os.path.join(LABEL_DIR, base + '.txt')\n",
        "        out_img_path = os.path.join(OUT_IMAGE_DIR, base + '.jpg')\n",
        "        out_lbl_path = os.path.join(OUT_LABEL_DIR, base + '.txt')\n",
        "\n",
        "        if os.path.exists(label_path):\n",
        "            process_image_and_label(image_path, label_path, out_img_path, out_lbl_path)\n",
        "        else:\n",
        "            print(f\"Label missing for {fname}, skipping.\")"
      ]
    },
    {
      "cell_type": "code",
      "execution_count": 17,
      "metadata": {
        "id": "MZhzdi_ORxn5"
      },
      "outputs": [],
      "source": [
        "## cropping the image of shape 2048x2048 into shpae of 1792x1792\n",
        "## and also it by defualt skip the images with 1792x1792\n",
        "## this script it for test images\n",
        "\n",
        "\n",
        "import os\n",
        "import cv2\n",
        "\n",
        "# INPUT PATHS\n",
        "IMAGE_DIR = '/content/dataset/val/images'       # input image folder\n",
        "LABEL_DIR = '/content/dataset/val/labels'       # input label folder (YOLO format)\n",
        "\n",
        "# OUTPUT PATHS\n",
        "OUT_IMAGE_DIR = '/content/dataset/val/image'\n",
        "OUT_LABEL_DIR = '/content/dataset/val/label'\n",
        "\n",
        "# Ensure output folders exist\n",
        "os.makedirs(OUT_IMAGE_DIR, exist_ok=True)\n",
        "os.makedirs(OUT_LABEL_DIR, exist_ok=True)\n",
        "\n",
        "# Parameters\n",
        "ORIG_SIZE = 2048\n",
        "TARGET_SIZE = 1792\n",
        "OFFSET = (ORIG_SIZE - TARGET_SIZE) // 2\n",
        "\n",
        "def process_image_and_label(image_path, label_path, out_img_path, out_lbl_path):\n",
        "    img = cv2.imread(image_path)\n",
        "    if img is None or img.shape[0] != ORIG_SIZE or img.shape[1] != ORIG_SIZE:\n",
        "\n",
        "        cv2.imwrite(out_img_path, img)\n",
        "        # Write updated label file\n",
        "        shutil.copy2(label_path, out_lbl_path)\n",
        "        return\n",
        "\n",
        "    # Crop center\n",
        "    cropped = img[OFFSET:OFFSET+TARGET_SIZE, OFFSET:OFFSET+TARGET_SIZE]\n",
        "    cv2.imwrite(out_img_path, cropped)\n",
        "\n",
        "    # Process label file\n",
        "    with open(label_path, 'r') as f:\n",
        "        lines = f.readlines()\n",
        "\n",
        "    new_labels = []\n",
        "    for line in lines:\n",
        "        parts = line.strip().split()\n",
        "        if len(parts) != 5:\n",
        "            continue\n",
        "\n",
        "        cls, x, y, w, h = parts\n",
        "        x, y, w, h = map(float, [x, y, w, h])\n",
        "\n",
        "        # Convert to absolute\n",
        "        x_abs = x * ORIG_SIZE\n",
        "        y_abs = y * ORIG_SIZE\n",
        "        w_abs = w * ORIG_SIZE\n",
        "        h_abs = h * ORIG_SIZE\n",
        "\n",
        "        # Adjust for cropping\n",
        "        x_abs -= OFFSET\n",
        "        y_abs -= OFFSET\n",
        "\n",
        "        # Skip boxes that fall outside\n",
        "        if (x_abs < 0 or x_abs > TARGET_SIZE or\n",
        "            y_abs < 0 or y_abs > TARGET_SIZE):\n",
        "            continue\n",
        "\n",
        "        # Clip boxes to stay within bounds\n",
        "        x_abs = min(max(x_abs, 0), TARGET_SIZE)\n",
        "        y_abs = min(max(y_abs, 0), TARGET_SIZE)\n",
        "        w_abs = min(w_abs, TARGET_SIZE)\n",
        "        h_abs = min(h_abs, TARGET_SIZE)\n",
        "\n",
        "        # Normalize for new image\n",
        "        x_new = x_abs / TARGET_SIZE\n",
        "        y_new = y_abs / TARGET_SIZE\n",
        "        w_new = w_abs / TARGET_SIZE\n",
        "        h_new = h_abs / TARGET_SIZE\n",
        "\n",
        "        new_labels.append(f\"{cls} {x_new:.6f} {y_new:.6f} {w_new:.6f} {h_new:.6f}\")\n",
        "\n",
        "    # Write updated label file\n",
        "    with open(out_lbl_path, 'w') as f:\n",
        "        f.write('\\n'.join(new_labels) + '\\n')\n",
        "\n",
        "\n",
        "# Main loop\n",
        "for fname in os.listdir(IMAGE_DIR):\n",
        "    if fname.endswith('.jpg') or fname.endswith('.png'):\n",
        "        base = os.path.splitext(fname)[0]\n",
        "        image_path = os.path.join(IMAGE_DIR, fname)\n",
        "        label_path = os.path.join(LABEL_DIR, base + '.txt')\n",
        "        out_img_path = os.path.join(OUT_IMAGE_DIR, base + '.jpg')\n",
        "        out_lbl_path = os.path.join(OUT_LABEL_DIR, base + '.txt')\n",
        "\n",
        "        if os.path.exists(label_path):\n",
        "            process_image_and_label(image_path, label_path, out_img_path, out_lbl_path)\n",
        "        else:\n",
        "            print(f\"Label missing for {fname}, skipping.\")\n"
      ]
    },
    {
      "cell_type": "code",
      "execution_count": 18,
      "metadata": {
        "id": "Z95pR2cASLxv"
      },
      "outputs": [],
      "source": [
        "!rm -rf /content/dataset/train/images\n",
        "!rm -rf /content/dataset/train/labels\n",
        "\n",
        "!rm -rf /content/dataset/val/images\n",
        "!rm -rf /content/dataset/val/labels\n",
        "\n",
        "!rm -rf /content/raw_dataset"
      ]
    },
    {
      "cell_type": "code",
      "execution_count": null,
      "metadata": {
        "id": "BUIBTunt-dbG"
      },
      "outputs": [],
      "source": [
        "# this script verify the dataset that wheather\n",
        "# it has the correct labels and images or not\n",
        "\n",
        "import os\n",
        "import cv2\n",
        "\n",
        "# Paths\n",
        "IMAGE_DIR = '/content/dataset/train/image'\n",
        "LABEL_DIR = '/content/dataset/train/label'\n",
        "SAVE_DIR = '/content/dataset/train/vis_1888'\n",
        "\n",
        "\n",
        "BOX_COLOR = (0, 255, 0)\n",
        "TEXT_COLOR = (0, 0, 255)\n",
        "THICKNESS = 2\n",
        "FONT = cv2.FONT_HERSHEY_SIMPLEX\n",
        "os.makedirs(SAVE_DIR, exist_ok=True)\n",
        "\n",
        "\n",
        "def draw_yolo_boxes(image_path, label_path, save_path):\n",
        "    image = cv2.imread(image_path)\n",
        "    if image is None:\n",
        "        print(f\"Image not found or unreadable: {image_path}\")\n",
        "        return\n",
        "\n",
        "    h, w = image.shape[:2]\n",
        "\n",
        "    if not os.path.exists(label_path):\n",
        "        print(f\"Label not found for {image_path}\")\n",
        "        return\n",
        "\n",
        "    with open(label_path, 'r') as f:\n",
        "        lines = f.readlines()\n",
        "\n",
        "    for line in lines:\n",
        "        parts = line.strip().split()\n",
        "        if len(parts) != 5:\n",
        "            continue\n",
        "\n",
        "        cls_id, x, y, bw, bh = map(float, parts)\n",
        "\n",
        "        # Convert YOLO to absolute\n",
        "        cx, cy = x * w, y * h\n",
        "        bw, bh = bw * w, bh * h\n",
        "        x1 = int(cx - bw / 2)\n",
        "        y1 = int(cy - bh / 2)\n",
        "        x2 = int(cx + bw / 2)\n",
        "        y2 = int(cy + bh / 2)\n",
        "\n",
        "        # Draw rectangle\n",
        "        cv2.rectangle(image, (x1, y1), (x2, y2), BOX_COLOR, THICKNESS)\n",
        "        cv2.putText(image, f\"Class {int(cls_id)}\", (x1, y1 - 5), FONT, 0.5, TEXT_COLOR, 1)\n",
        "\n",
        "    cv2.imwrite(save_path, image)\n",
        "\n",
        "# Process all images\n",
        "for idx, fname in enumerate(os.listdir(IMAGE_DIR)):\n",
        "    if fname.endswith('.jpg') or fname.endswith('.png'):\n",
        "        base = os.path.splitext(fname)[0]\n",
        "        image_path = os.path.join(IMAGE_DIR, fname)\n",
        "        label_path = os.path.join(LABEL_DIR, base + '.txt')\n",
        "        save_path = os.path.join(SAVE_DIR, fname)\n",
        "        draw_yolo_boxes(image_path, label_path, save_path)\n",
        "\n",
        "    if idx == 50:\n",
        "      break"
      ]
    },
    {
      "cell_type": "code",
      "execution_count": 1,
      "metadata": {
        "id": "-y5oWzJxVOGm"
      },
      "outputs": [],
      "source": [
        "!rm -rf /content/dataset/train/images\n",
        "!rm -rf /content/dataset/train/labels\n",
        "!rm -rf /content/dataset/val/images\n",
        "!rm -rf /content/dataset/val/labels"
      ]
    },
    {
      "cell_type": "code",
      "execution_count": null,
      "metadata": {
        "id": "UiOHYzjOpXPw"
      },
      "outputs": [],
      "source": [
        "## data.yaml configuration for yolo\n",
        "# names:\n",
        "# - Text\n",
        "\n",
        "# nc: 1\n",
        "\n",
        "# train: ../dataset/train/images\n",
        "# val: ../dataset/val/images\n",
        "\n"
      ]
    },
    {
      "cell_type": "code",
      "execution_count": 19,
      "metadata": {
        "id": "H-YGBT3LpXNx"
      },
      "outputs": [],
      "source": [
        "!touch /content/dataset/data.yaml"
      ]
    },
    {
      "cell_type": "code",
      "execution_count": 20,
      "metadata": {
        "id": "yifmkra9sjQi"
      },
      "outputs": [],
      "source": [
        "!mv /content/dataset /content/yolov9"
      ]
    },
    {
      "cell_type": "code",
      "execution_count": null,
      "metadata": {
        "id": "iopdw1BbS8do"
      },
      "outputs": [],
      "source": []
    },
    {
      "cell_type": "markdown",
      "metadata": {
        "id": "L9bsbNvZox8C"
      },
      "source": [
        "### Dataset - (615 - 2048x2048) -- Coco to YOLO --  Base Model\n"
      ]
    },
    {
      "cell_type": "code",
      "execution_count": null,
      "metadata": {
        "id": "FlF8-fy0MVob"
      },
      "outputs": [],
      "source": [
        "import os\n",
        "import json\n",
        "import shutil"
      ]
    },
    {
      "cell_type": "code",
      "execution_count": null,
      "metadata": {
        "colab": {
          "base_uri": "https://localhost:8080/"
        },
        "id": "2bu5i9nEc4gc",
        "outputId": "259a8062-275b-49d9-b91c-b8644932567d"
      },
      "outputs": [
        {
          "name": "stdout",
          "output_type": "stream",
          "text": [
            "/content\n"
          ]
        }
      ],
      "source": [
        "%cd /content/\n",
        "!unzip -q /content/drive/MyDrive/OCR-Custom-Dataset/combine_images.zip"
      ]
    },
    {
      "cell_type": "code",
      "execution_count": null,
      "metadata": {
        "id": "AX3kXAOCdn3G"
      },
      "outputs": [],
      "source": [
        "# copy the combine image folder into local folder (\"/content/\")\n",
        "!cp -r /content/content/combine_images /content/\n",
        "\n",
        "!rm -rf /content/content"
      ]
    },
    {
      "cell_type": "code",
      "execution_count": null,
      "metadata": {
        "colab": {
          "base_uri": "https://localhost:8080/"
        },
        "id": "nK5mWEekecZ1",
        "outputId": "2aba61f2-e355-46bb-8c3e-9273e9235936"
      },
      "outputs": [
        {
          "name": "stdout",
          "output_type": "stream",
          "text": [
            "615\n"
          ]
        }
      ],
      "source": [
        "input_path = \"/content/combine_images/combine_labels.json\"\n",
        "\n",
        "with open(input_path, 'r') as f:\n",
        "  data = json.load(f)\n",
        "\n",
        "\n",
        "print(len(data))"
      ]
    },
    {
      "cell_type": "code",
      "execution_count": null,
      "metadata": {
        "id": "K_sdmc2_ecXD"
      },
      "outputs": [],
      "source": [
        "# dataset directory structure\n",
        "!mkdir /content/dataset\n",
        "!mkdir /content/dataset/train\n",
        "!mkdir /content/dataset/train/images\n",
        "!mkdir /content/dataset/train/labels\n",
        "!mkdir /content/dataset/val\n",
        "!mkdir /content/dataset/val/images\n",
        "!mkdir /content/dataset/val/labels"
      ]
    },
    {
      "cell_type": "code",
      "execution_count": null,
      "metadata": {
        "id": "7IA7Vrqsdj4-"
      },
      "outputs": [],
      "source": [
        "root_read_img = \"/content/combine_images/images/\"\n",
        "\n",
        "root_write_img_train = \"/content/dataset/train/images/\"\n",
        "root_write_label_train = \"/content/dataset/train/labels/\"\n",
        "\n",
        "\n",
        "for idx, sample in enumerate(data[:-2]):\n",
        "  file_name = sample['ocr']\n",
        "  print(\"fileName\", file_name)\n",
        "\n",
        "  ## verify image name\n",
        "  flag = os.path.exists(f\"{root_read_img}{file_name}\")\n",
        "  if not flag:\n",
        "    file_name = \"_\".join(file_name.split(\"_\")[3:])\n",
        "    file_path = os.path.join(root_read_img, file_name)\n",
        "    flag = os.path.exists(file_path)\n",
        "\n",
        "\n",
        "  ## iterate over one sample bboxes\n",
        "  new_bbox = []\n",
        "  for box in sample['bbox']:\n",
        "    x1, y1, x2, y2 = box['x1'], box['y1'], box['x2'], box['y2']\n",
        "\n",
        "    ## convert x1, y1, x2, y2 -->\n",
        "    xc = (x1 + x2) / 2\n",
        "    yc = (y1 + y2) / 2\n",
        "    w = x2 - x1\n",
        "    h = y2 - y1\n",
        "    ## Normalize the values\n",
        "    xc = xc / 2048\n",
        "    yc = yc / 2048\n",
        "    w = w / 2048\n",
        "    h = h / 2048\n",
        "    ## append new_bbox\n",
        "    new_bbox.append([0, xc, yc, w, h])\n",
        "\n",
        "\n",
        "  # ## write text file\n",
        "  write_label_path = os.path.join(root_write_label_train, f\"{file_name.split('.')[0]}.txt\")\n",
        "  with open(write_label_path, 'w') as f:\n",
        "    for bbox in new_bbox:\n",
        "      f.write(' '.join([str(x) for x in bbox]) + '\\n')\n",
        "\n",
        "  ## move the images\n",
        "  original_image_path = os.path.join(root_read_img, file_name)\n",
        "  write_image_path = os.path.join(root_write_img_train)\n",
        "  shutil.move(original_image_path, write_image_path)\n",
        "\n",
        "\n",
        "\n",
        "  print(f\"Label File saved at {write_label_path}\")\n",
        "  print(f\"Image moved from {original_image_path} to {write_image_path}\")"
      ]
    },
    {
      "cell_type": "code",
      "execution_count": null,
      "metadata": {
        "colab": {
          "base_uri": "https://localhost:8080/"
        },
        "id": "7k_8sKIxKjIX",
        "outputId": "6a22984d-9bd8-4f65-ef6c-a7100b7e4c4b"
      },
      "outputs": [
        {
          "name": "stdout",
          "output_type": "stream",
          "text": [
            "613\n",
            "613\n"
          ]
        }
      ],
      "source": [
        "print(len(os.listdir(\"/content/dataset/train/images/\")))\n",
        "print(len(os.listdir(\"/content/dataset/train/labels/\")))"
      ]
    },
    {
      "cell_type": "code",
      "execution_count": null,
      "metadata": {
        "colab": {
          "base_uri": "https://localhost:8080/"
        },
        "id": "DB6b54FZKjFB",
        "outputId": "066ce995-9543-4e5f-90e6-4b607e82277d"
      },
      "outputs": [
        {
          "name": "stdout",
          "output_type": "stream",
          "text": [
            "Label File saved at /content/dataset/val/labels/rot_90cw__fe2c7084-3_6.txt\n",
            "Image moved from /content/combine_images/images/rot_90cw__fe2c7084-3_6.jpg to /content/dataset/val/images/\n",
            "Label File saved at /content/dataset/val/labels/rot_90cw__a68100c3-3_7.txt\n",
            "Image moved from /content/combine_images/images/rot_90cw__a68100c3-3_7.jpg to /content/dataset/val/images/\n"
          ]
        }
      ],
      "source": [
        "root_read_img = \"/content/combine_images/images/\"\n",
        "\n",
        "root_write_img_val = \"/content/dataset/val/images/\"\n",
        "root_write_label_val = \"/content/dataset/val/labels/\"\n",
        "\n",
        "\n",
        "for idx, sample in enumerate(data[613:]):\n",
        "  file_name = sample['ocr']\n",
        "\n",
        "  ## verify image name\n",
        "  flag = os.path.exists(f\"{root_read_img}{file_name}\")\n",
        "  if not flag:\n",
        "    file_name = \"_\".join(file_name.split(\"_\")[3:])\n",
        "    file_path = os.path.join(root_read_img, file_name)\n",
        "    flag = os.path.exists(file_path)\n",
        "\n",
        "\n",
        "  ## iterate over one sample bboxes\n",
        "  new_bbox = []\n",
        "  for box in sample['bbox']:\n",
        "    x1, y1, x2, y2 = box['x1'], box['y1'], box['x2'], box['y2']\n",
        "\n",
        "    ## convert x1, y1, x2, y2 -->\n",
        "    xc = (x1 + x2) / 2\n",
        "    yc = (y1 + y2) / 2\n",
        "    w = x2 - x1\n",
        "    h = y2 - y1\n",
        "    ## Normalize the values\n",
        "    xc = xc / 2048\n",
        "    yc = yc / 2048\n",
        "    w = w / 2048\n",
        "    h = h / 2048\n",
        "    ## append new_bbox\n",
        "    new_bbox.append([0, xc, yc, w, h])\n",
        "\n",
        "\n",
        "  # ## write text file\n",
        "  write_label_path = os.path.join(root_write_label_val, f\"{file_name.split('.')[0]}.txt\")\n",
        "  with open(write_label_path, 'w') as f:\n",
        "    for bbox in new_bbox:\n",
        "      f.write(' '.join([str(x) for x in bbox]) + '\\n')\n",
        "\n",
        "  ## move the images\n",
        "  original_image_path = os.path.join(root_read_img, file_name)\n",
        "  write_image_path = os.path.join(root_write_img_val)\n",
        "  shutil.move(original_image_path, write_image_path)\n",
        "\n",
        "\n",
        "\n",
        "  print(f\"Label File saved at {write_label_path}\")\n",
        "  print(f\"Image moved from {original_image_path} to {write_image_path}\")"
      ]
    },
    {
      "cell_type": "code",
      "execution_count": null,
      "metadata": {
        "colab": {
          "base_uri": "https://localhost:8080/"
        },
        "id": "uncXffcZKjB-",
        "outputId": "b1855ce6-0d27-4558-bf88-8dd53454053e"
      },
      "outputs": [
        {
          "name": "stdout",
          "output_type": "stream",
          "text": [
            "2\n",
            "2\n"
          ]
        }
      ],
      "source": [
        "print(len(os.listdir(\"/content/dataset/val/images/\")))\n",
        "print(len(os.listdir(\"/content/dataset/val/labels/\")))"
      ]
    },
    {
      "cell_type": "code",
      "execution_count": null,
      "metadata": {
        "id": "xm1CIBvZ55Wz"
      },
      "outputs": [],
      "source": []
    },
    {
      "cell_type": "markdown",
      "source": [
        "## Training"
      ],
      "metadata": {
        "id": "eBS-NFXWKjJ0"
      }
    },
    {
      "cell_type": "code",
      "execution_count": 27,
      "metadata": {
        "colab": {
          "base_uri": "https://localhost:8080/"
        },
        "id": "N68Bdf4FsMYW",
        "outputId": "58274006-f95e-4106-e236-d67d8dc7dd8b"
      },
      "outputs": [
        {
          "output_type": "stream",
          "name": "stdout",
          "text": [
            "/content/yolov9\n",
            "2025-05-27 06:45:29.014074: E external/local_xla/xla/stream_executor/cuda/cuda_fft.cc:477] Unable to register cuFFT factory: Attempting to register factory for plugin cuFFT when one has already been registered\n",
            "WARNING: All log messages before absl::InitializeLog() is called are written to STDERR\n",
            "E0000 00:00:1748328329.039003    6168 cuda_dnn.cc:8310] Unable to register cuDNN factory: Attempting to register factory for plugin cuDNN when one has already been registered\n",
            "E0000 00:00:1748328329.046394    6168 cuda_blas.cc:1418] Unable to register cuBLAS factory: Attempting to register factory for plugin cuBLAS when one has already been registered\n",
            "2025-05-27 06:45:29.070985: I tensorflow/core/platform/cpu_feature_guard.cc:210] This TensorFlow binary is optimized to use available CPU instructions in performance-critical operations.\n",
            "To enable the following instructions: AVX2 FMA, in other operations, rebuild TensorFlow with the appropriate compiler flags.\n",
            "\u001b[34m\u001b[1mwandb\u001b[0m: (1) Create a W&B account\n",
            "\u001b[34m\u001b[1mwandb\u001b[0m: (2) Use an existing W&B account\n",
            "\u001b[34m\u001b[1mwandb\u001b[0m: (3) Don't visualize my results\n",
            "\u001b[34m\u001b[1mwandb\u001b[0m: Enter your choice: (30 second timeout) 3\n",
            "\u001b[34m\u001b[1mwandb\u001b[0m: You chose \"Don't visualize my results\"\n",
            "\u001b[34m\u001b[1mtrain: \u001b[0mweights=/content/weights/best.pt, cfg=models/detect/gelan-e.yaml, data=/content/yolov9/dataset/data.yaml, hyp=hyp.scratch-high.yaml, epochs=25, batch_size=1, imgsz=1792, rect=False, resume=False, nosave=False, noval=False, noautoanchor=False, noplots=False, evolve=None, bucket=, cache=None, image_weights=False, device=, multi_scale=False, single_cls=False, optimizer=SGD, sync_bn=False, workers=0, project=runs/train, name=exp, exist_ok=False, quad=False, cos_lr=False, flat_cos_lr=False, fixed_lr=False, label_smoothing=0.0, patience=100, freeze=[0], save_period=-1, seed=0, local_rank=-1, min_items=0, close_mosaic=15, entity=None, upload_dataset=False, bbox_interval=-1, artifact_alias=latest\n",
            "YOLOv5 🚀 1e33dbb Python-3.11.12 torch-2.6.0+cu124 CPU\n",
            "\n",
            "\u001b[34m\u001b[1mhyperparameters: \u001b[0mlr0=0.01, lrf=0.01, momentum=0.937, weight_decay=0.0005, warmup_epochs=3.0, warmup_momentum=0.8, warmup_bias_lr=0.1, box=7.5, cls=0.5, cls_pw=1.0, dfl=1.5, obj_pw=1.0, iou_t=0.2, anchor_t=5.0, fl_gamma=0.0, hsv_h=0.015, hsv_s=0.7, hsv_v=0.4, degrees=0.0, translate=0.1, scale=0.9, shear=0.0, perspective=0.0, flipud=0.0, fliplr=0.5, mosaic=1.0, mixup=0.15, copy_paste=0.3\n",
            "\u001b[34m\u001b[1mClearML: \u001b[0mrun 'pip install clearml' to automatically track, visualize and remotely train YOLO 🚀 in ClearML\n",
            "\u001b[34m\u001b[1mComet: \u001b[0mrun 'pip install comet_ml' to automatically track and visualize YOLO 🚀 runs in Comet\n",
            "\u001b[34m\u001b[1mTensorBoard: \u001b[0mStart with 'tensorboard --logdir runs/train', view at http://localhost:6006/\n",
            "\n",
            "                 from  n    params  module                                  arguments                     \n",
            "  0                -1  1         0  models.common.Silence                   []                            \n",
            "  1                -1  1      1856  models.common.Conv                      [3, 64, 3, 2]                 \n",
            "  2                -1  1     73984  models.common.Conv                      [64, 128, 3, 2]               \n",
            "  3                -1  1    252160  models.common.RepNCSPELAN4              [128, 256, 128, 64, 2]        \n",
            "  4                -1  1    164352  models.common.ADown                     [256, 256]                    \n",
            "  5                -1  1   1004032  models.common.RepNCSPELAN4              [256, 512, 256, 128, 2]       \n",
            "  6                -1  1    656384  models.common.ADown                     [512, 512]                    \n",
            "  7                -1  1   4006912  models.common.RepNCSPELAN4              [512, 1024, 512, 256, 2]      \n",
            "  8                -1  1   2623488  models.common.ADown                     [1024, 1024]                  \n",
            "  9                -1  1   4269056  models.common.RepNCSPELAN4              [1024, 1024, 512, 256, 2]     \n",
            " 10                 1  1      4160  models.common.CBLinear                  [64, [64]]                    \n",
            " 11                 3  1     49344  models.common.CBLinear                  [256, [64, 128]]              \n",
            " 12                 5  1    229824  models.common.CBLinear                  [512, [64, 128, 256]]         \n",
            " 13                 7  1    984000  models.common.CBLinear                  [1024, [64, 128, 256, 512]]   \n",
            " 14                 9  1   2033600  models.common.CBLinear                  [1024, [64, 128, 256, 512, 1024]]\n",
            " 15                 0  1      1856  models.common.Conv                      [3, 64, 3, 2]                 \n",
            " 16[10, 11, 12, 13, 14, -1]  1         0  models.common.CBFuse                    [[0, 0, 0, 0, 0]]             \n",
            " 17                -1  1     73984  models.common.Conv                      [64, 128, 3, 2]               \n",
            " 18[11, 12, 13, 14, -1]  1         0  models.common.CBFuse                    [[1, 1, 1, 1]]                \n",
            " 19                -1  1    252160  models.common.RepNCSPELAN4              [128, 256, 128, 64, 2]        \n",
            " 20                -1  1    164352  models.common.ADown                     [256, 256]                    \n",
            " 21  [12, 13, 14, -1]  1         0  models.common.CBFuse                    [[2, 2, 2]]                   \n",
            " 22                -1  1   1004032  models.common.RepNCSPELAN4              [256, 512, 256, 128, 2]       \n",
            " 23                -1  1    656384  models.common.ADown                     [512, 512]                    \n",
            " 24      [13, 14, -1]  1         0  models.common.CBFuse                    [[3, 3]]                      \n",
            " 25                -1  1   4006912  models.common.RepNCSPELAN4              [512, 1024, 512, 256, 2]      \n",
            " 26                -1  1   2623488  models.common.ADown                     [1024, 1024]                  \n",
            " 27          [14, -1]  1         0  models.common.CBFuse                    [[4]]                         \n",
            " 28                -1  1   4269056  models.common.RepNCSPELAN4              [1024, 1024, 512, 256, 2]     \n",
            " 29                28  1    787968  models.common.SPPELAN                   [1024, 512, 256]              \n",
            " 30                -1  1         0  torch.nn.modules.upsampling.Upsample    [None, 2, 'nearest']          \n",
            " 31          [-1, 25]  1         0  models.common.Concat                    [1]                           \n",
            " 32                -1  1   4005888  models.common.RepNCSPELAN4              [1536, 512, 512, 256, 2]      \n",
            " 33                -1  1         0  torch.nn.modules.upsampling.Upsample    [None, 2, 'nearest']          \n",
            " 34          [-1, 22]  1         0  models.common.Concat                    [1]                           \n",
            " 35                -1  1   1069056  models.common.RepNCSPELAN4              [1024, 256, 256, 128, 2]      \n",
            " 36                -1  1    164352  models.common.ADown                     [256, 256]                    \n",
            " 37          [-1, 32]  1         0  models.common.Concat                    [1]                           \n",
            " 38                -1  1   3612672  models.common.RepNCSPELAN4              [768, 512, 512, 256, 2]       \n",
            " 39                -1  1    656384  models.common.ADown                     [512, 512]                    \n",
            " 40          [-1, 29]  1         0  models.common.Concat                    [1]                           \n",
            " 41                -1  1  12860416  models.common.RepNCSPELAN4              [1024, 512, 1024, 512, 2]     \n",
            " 42      [35, 38, 41]  1   5491411  models.yolo.DDetect                     [1, [256, 512, 512]]          \n",
            "gelan-e summary: 1228 layers, 58053523 parameters, 58053507 gradients, 192.2 GFLOPs\n",
            "\n",
            "Transferred 1811/1811 items from /content/weights/best.pt\n",
            "\u001b[34m\u001b[1moptimizer:\u001b[0m SGD(lr=0.01) with parameter groups 298 weight(decay=0.0), 310 weight(decay=0.0005), 309 bias\n",
            "\u001b[34m\u001b[1malbumentations: \u001b[0m1 validation error for InitSchema\n",
            "size\n",
            "  Field required [type=missing, input_value={'scale': (0.8, 1.0), 'ra...'mask_interpolation': 0}, input_type=dict]\n",
            "    For further information visit https://errors.pydantic.dev/2.11/v/missing\n",
            "\u001b[34m\u001b[1mtrain: \u001b[0mScanning /content/yolov9/dataset/train/labels... 229 images, 9 backgrounds, 0 corrupt: 100% 229/229 [00:00<00:00, 1330.88it/s]\n",
            "\u001b[34m\u001b[1mtrain: \u001b[0mNew cache created: /content/yolov9/dataset/train/labels.cache\n",
            "\u001b[34m\u001b[1mval: \u001b[0mScanning /content/yolov9/dataset/val/labels... 1 images, 0 backgrounds, 0 corrupt: 100% 1/1 [00:00<00:00, 49.23it/s]\n",
            "\u001b[34m\u001b[1mval: \u001b[0mNew cache created: /content/yolov9/dataset/val/labels.cache\n",
            "Plotting labels to runs/train/exp4/labels.jpg... \n",
            "/content/yolov9/train.py:244: FutureWarning: `torch.cuda.amp.GradScaler(args...)` is deprecated. Please use `torch.amp.GradScaler('cuda', args...)` instead.\n",
            "  scaler = torch.cuda.amp.GradScaler(enabled=amp)\n",
            "Image sizes 1792 train, 1792 val\n",
            "Using 0 dataloader workers\n",
            "Logging results to \u001b[1mruns/train/exp4\u001b[0m\n",
            "Starting training for 25 epochs...\n",
            "\n",
            "      Epoch    GPU_mem   box_loss   cls_loss   dfl_loss  Instances       Size\n",
            "  0% 0/229 [00:00<?, ?it/s]/content/yolov9/train.py:302: FutureWarning: `torch.cuda.amp.autocast(args...)` is deprecated. Please use `torch.amp.autocast('cuda', args...)` instead.\n",
            "  with torch.cuda.amp.autocast(amp):\n",
            "^C\n"
          ]
        }
      ],
      "source": [
        "%cd /content/yolov9\n",
        "# 1856\n",
        "\n",
        "!python train.py \\\n",
        "--batch 1 --epochs 25 --img 1792 --min-items 0 --workers 0 --close-mosaic 15 \\\n",
        "--data /content/yolov9/dataset/data.yaml \\\n",
        "--weights /content/weights/best.pt \\\n",
        "--cfg models/detect/gelan-e.yaml \\\n",
        "--hyp hyp.scratch-high.yaml"
      ]
    },
    {
      "cell_type": "code",
      "execution_count": null,
      "metadata": {
        "id": "Z4EAKGspbWaQ"
      },
      "outputs": [],
      "source": [
        "!cp -r /content/yolov9/runs/train/exp2/weights/best.pt /content/drive/MyDrive/OCR-Custom-Dataset/models/YOLOv9-gelan-e/weights_v4_1792/"
      ]
    },
    {
      "cell_type": "markdown",
      "metadata": {
        "id": "qJJ5fiqT6mEq"
      },
      "source": [
        "## Inference with Custom Model"
      ]
    },
    {
      "cell_type": "code",
      "execution_count": null,
      "metadata": {
        "colab": {
          "base_uri": "https://localhost:8080/"
        },
        "id": "Ea0oI_dPV9eS",
        "outputId": "07cc9288-8fde-4c2c-865d-c016f9717cae"
      },
      "outputs": [
        {
          "output_type": "stream",
          "name": "stdout",
          "text": [
            "/content/yolov9\n"
          ]
        }
      ],
      "source": [
        "%cd /content/yolov9"
      ]
    },
    {
      "cell_type": "code",
      "execution_count": null,
      "metadata": {
        "id": "-cBi88jWuHpK"
      },
      "outputs": [],
      "source": [
        "import os\n",
        "\n",
        "\n",
        "os.getcwd()\n",
        "os.chdir(\"/content/yolov9\")"
      ]
    },
    {
      "cell_type": "code",
      "execution_count": null,
      "metadata": {
        "colab": {
          "base_uri": "https://localhost:8080/"
        },
        "id": "ggBTI7w32NT0",
        "outputId": "cc7420c0-59c8-49c8-80b2-b6f57c87081d"
      },
      "outputs": [
        {
          "output_type": "stream",
          "name": "stdout",
          "text": [
            "Saved 15 patches to 'patches'.\n"
          ]
        }
      ],
      "source": [
        "import os\n",
        "from PIL import Image\n",
        "\n",
        "def patch_image(image_path, output_dir, patch_size=1792):\n",
        "    # Load the image\n",
        "    image = Image.open(image_path)\n",
        "    width, height = image.size\n",
        "\n",
        "    # Make sure output directory exists\n",
        "    os.makedirs(output_dir, exist_ok=True)\n",
        "\n",
        "    patch_id = 0\n",
        "    for top in range(0, height, patch_size):\n",
        "        for left in range(0, width, patch_size):\n",
        "            right = left + patch_size\n",
        "            bottom = top + patch_size\n",
        "\n",
        "            # Discard if patch is out of bounds (less than patch_size)\n",
        "            if right > width or bottom > height:\n",
        "                continue\n",
        "\n",
        "            patch = image.crop((left, top, right, bottom))\n",
        "            patch_filename = os.path.join(output_dir, f\"patch_{patch_id:04d}.png\")\n",
        "            patch.save(patch_filename)\n",
        "            patch_id += 1\n",
        "\n",
        "            # if patch_id == 3:\n",
        "            #   return\n",
        "\n",
        "    print(f\"Saved {patch_id} patches to '{output_dir}'.\")\n",
        "\n",
        "    if patch_id == 15:\n",
        "      return\n",
        "image_path = \"/content/Training 20March_P14456A-14-01-08-0642-1-Test-Single Scaling.jpg\"\n",
        "output_dir = \"patches\"\n",
        "patch_image(image_path, output_dir)"
      ]
    },
    {
      "cell_type": "code",
      "execution_count": null,
      "metadata": {
        "id": "8vnrn9cwIsUs"
      },
      "outputs": [],
      "source": [
        "!python detect.py \\\n",
        "--img 1792 --conf 0.3 \\\n",
        "--weights /content/weights/best.pt \\\n",
        "--source /content/yolov9/patches"
      ]
    },
    {
      "cell_type": "markdown",
      "metadata": {
        "id": "WPbhTtVXtM4Q"
      },
      "source": [
        "**NOTE:** Just like behore, the inference results have been saved in the appropriate directory inside `{HOME}/yolov9/runs/detect/`. Let's examine few of those results."
      ]
    },
    {
      "cell_type": "code",
      "execution_count": null,
      "metadata": {
        "colab": {
          "base_uri": "https://localhost:8080/"
        },
        "id": "I-TJ9BszbjaB",
        "outputId": "75740917-051f-4521-fddc-01b8d06cba09"
      },
      "outputs": [
        {
          "output_type": "stream",
          "name": "stdout",
          "text": [
            "updating: content/yolov9/runs/detect/exp/ (stored 0%)\n",
            "updating: content/yolov9/runs/detect/exp/patch_0012.png (deflated 30%)\n",
            "updating: content/yolov9/runs/detect/exp/patch_0006.png (deflated 26%)\n",
            "updating: content/yolov9/runs/detect/exp/patch_0011.png (deflated 28%)\n",
            "updating: content/yolov9/runs/detect/exp/patch_0002.png (deflated 33%)\n",
            "updating: content/yolov9/runs/detect/exp/patch_0013.png (deflated 29%)\n",
            "updating: content/yolov9/runs/detect/exp/patch_0009.png (deflated 32%)\n",
            "updating: content/yolov9/runs/detect/exp/patch_0007.png (deflated 27%)\n",
            "updating: content/yolov9/runs/detect/exp/patch_0010.png (deflated 30%)\n",
            "updating: content/yolov9/runs/detect/exp/patch_0008.png (deflated 24%)\n",
            "updating: content/yolov9/runs/detect/exp/patch_0004.png (deflated 31%)\n",
            "updating: content/yolov9/runs/detect/exp/patch_0000.png (deflated 33%)\n",
            "updating: content/yolov9/runs/detect/exp/patch_0005.png (deflated 33%)\n",
            "updating: content/yolov9/runs/detect/exp/patch_0003.png (deflated 26%)\n",
            "updating: content/yolov9/runs/detect/exp/patch_0001.png (deflated 48%)\n",
            "updating: content/yolov9/runs/detect/exp/patch_0014.png (deflated 34%)\n"
          ]
        }
      ],
      "source": [
        "## zip the detected test images\n",
        "\n",
        "!zip -r test_02.zip /content/yolov9/runs/detect/exp"
      ]
    },
    {
      "cell_type": "code",
      "execution_count": null,
      "metadata": {
        "id": "7P7cGnaK3gVi"
      },
      "outputs": [],
      "source": [
        "!cp -r /content/yolov9/runs/train/exp/weights_v2 /content/drive/MyDrive/OCR-Custom-Dataset/models/YOLOv9-gelan-e/"
      ]
    },
    {
      "cell_type": "code",
      "execution_count": null,
      "metadata": {
        "id": "zvfeGxtB1xcY"
      },
      "outputs": [],
      "source": []
    },
    {
      "cell_type": "code",
      "source": [],
      "metadata": {
        "id": "Js00geeRKDni"
      },
      "execution_count": null,
      "outputs": []
    },
    {
      "cell_type": "code",
      "source": [],
      "metadata": {
        "id": "2C8981LCKDj0"
      },
      "execution_count": null,
      "outputs": []
    },
    {
      "cell_type": "markdown",
      "metadata": {
        "id": "tVsSrxsV-aYG"
      },
      "source": [
        "## Convert To onnx"
      ]
    },
    {
      "cell_type": "code",
      "execution_count": null,
      "metadata": {
        "id": "EOyCO0JGaZMa"
      },
      "outputs": [],
      "source": [
        "import os\n",
        "\n",
        "os.getcwd()\n",
        "os.chdir(\"/content/yolov9/\")"
      ]
    },
    {
      "cell_type": "code",
      "execution_count": null,
      "metadata": {
        "colab": {
          "base_uri": "https://localhost:8080/"
        },
        "id": "HqbTg7cO-Z7l",
        "outputId": "5a93bff7-fcea-4f5a-c19b-3cde8ce2764e"
      },
      "outputs": [
        {
          "output_type": "stream",
          "name": "stdout",
          "text": [
            "\u001b[34m\u001b[1mexport: \u001b[0mdata=data/coco.yaml, weights=['/content/weights/best.pt'], imgsz=[1792], batch_size=1, device=0, half=False, inplace=False, keras=False, optimize=False, int8=False, dynamic=False, simplify=False, opset=12, verbose=False, workspace=4, nms=False, agnostic_nms=False, topk_per_class=100, topk_all=100, iou_thres=0.45, conf_thres=0.25, include=['onnx']\n",
            "YOLOv5 🚀 1e33dbb Python-3.11.12 torch-2.6.0+cu124 CUDA:0 (Tesla T4, 15095MiB)\n",
            "\n",
            "Fusing layers... \n",
            "gelan-e summary: 930 layers, 58002835 parameters, 0 gradients, 190.8 GFLOPs\n",
            "\n",
            "\u001b[34m\u001b[1mPyTorch:\u001b[0m starting from /content/weights/best.pt with output shape (1, 5, 65856) (445.3 MB)\n",
            "\u001b[31m\u001b[1mrequirements:\u001b[0m YOLO requirement \"onnx\" not found, attempting AutoUpdate...\n",
            "Collecting onnx\n",
            "  Downloading onnx-1.18.0-cp311-cp311-manylinux_2_17_x86_64.manylinux2014_x86_64.whl.metadata (6.9 kB)\n",
            "Requirement already satisfied: numpy>=1.22 in /usr/local/lib/python3.11/dist-packages (from onnx) (2.0.2)\n",
            "Requirement already satisfied: protobuf>=4.25.1 in /usr/local/lib/python3.11/dist-packages (from onnx) (5.29.4)\n",
            "Requirement already satisfied: typing_extensions>=4.7.1 in /usr/local/lib/python3.11/dist-packages (from onnx) (4.13.2)\n",
            "Downloading onnx-1.18.0-cp311-cp311-manylinux_2_17_x86_64.manylinux2014_x86_64.whl (17.6 MB)\n",
            "   ━━━━━━━━━━━━━━━━━━━━━━━━━━━━━━━━━━━━━━━━ 17.6/17.6 MB 111.5 MB/s eta 0:00:00\n",
            "Installing collected packages: onnx\n",
            "Successfully installed onnx-1.18.0\n",
            "\n",
            "\u001b[31m\u001b[1mrequirements:\u001b[0m 1 package updated per ['onnx']\n",
            "\u001b[31m\u001b[1mrequirements:\u001b[0m ⚠️ \u001b[1mRestart runtime or rerun command for updates to take effect\u001b[0m\n",
            "\n",
            "\n",
            "\u001b[34m\u001b[1mONNX:\u001b[0m starting export with onnx 1.18.0...\n",
            "\u001b[34m\u001b[1mONNX:\u001b[0m export success ✅ 12.7s, saved as /content/weights/best.onnx (222.8 MB)\n",
            "\n",
            "Export complete (15.9s)\n",
            "Results saved to \u001b[1m/content/weights\u001b[0m\n",
            "Detect:          python detect.py --weights /content/weights/best.onnx \n",
            "Validate:        python val.py --weights /content/weights/best.onnx \n",
            "PyTorch Hub:     model = torch.hub.load('ultralytics/yolov5', 'custom', '/content/weights/best.onnx')  \n",
            "Visualize:       https://netron.app\n"
          ]
        }
      ],
      "source": [
        "!python export.py --weights /content/weights/best.pt --img 1792 --batch 1 --device 0 --include onnx"
      ]
    },
    {
      "cell_type": "code",
      "execution_count": null,
      "metadata": {
        "id": "J2A33yvPMslu"
      },
      "outputs": [],
      "source": [
        "# copy the model to drive\n",
        "\n",
        "!cp /content/weights/best.onnx /content/drive/MyDrive/OCR-Custom-Dataset/models/YOLOv9-gelan-e/weights_v4_1792/"
      ]
    },
    {
      "cell_type": "code",
      "execution_count": null,
      "metadata": {
        "colab": {
          "base_uri": "https://localhost:8080/"
        },
        "id": "Qw2LJDNk-Z5h",
        "outputId": "dfd7e9e9-bf0c-47f1-d557-bfc391858c8d"
      },
      "outputs": [
        {
          "output_type": "stream",
          "name": "stdout",
          "text": [
            "Collecting onnxruntime\n",
            "  Downloading onnxruntime-1.22.0-cp311-cp311-manylinux_2_27_x86_64.manylinux_2_28_x86_64.whl.metadata (4.5 kB)\n",
            "Collecting coloredlogs (from onnxruntime)\n",
            "  Downloading coloredlogs-15.0.1-py2.py3-none-any.whl.metadata (12 kB)\n",
            "Requirement already satisfied: flatbuffers in /usr/local/lib/python3.11/dist-packages (from onnxruntime) (25.2.10)\n",
            "Requirement already satisfied: numpy>=1.21.6 in /usr/local/lib/python3.11/dist-packages (from onnxruntime) (2.0.2)\n",
            "Requirement already satisfied: packaging in /usr/local/lib/python3.11/dist-packages (from onnxruntime) (24.2)\n",
            "Requirement already satisfied: protobuf in /usr/local/lib/python3.11/dist-packages (from onnxruntime) (5.29.4)\n",
            "Requirement already satisfied: sympy in /usr/local/lib/python3.11/dist-packages (from onnxruntime) (1.13.1)\n",
            "Collecting humanfriendly>=9.1 (from coloredlogs->onnxruntime)\n",
            "  Downloading humanfriendly-10.0-py2.py3-none-any.whl.metadata (9.2 kB)\n",
            "Requirement already satisfied: mpmath<1.4,>=1.1.0 in /usr/local/lib/python3.11/dist-packages (from sympy->onnxruntime) (1.3.0)\n",
            "Downloading onnxruntime-1.22.0-cp311-cp311-manylinux_2_27_x86_64.manylinux_2_28_x86_64.whl (16.4 MB)\n",
            "\u001b[2K   \u001b[90m━━━━━━━━━━━━━━━━━━━━━━━━━━━━━━━━━━━━━━━━\u001b[0m \u001b[32m16.4/16.4 MB\u001b[0m \u001b[31m101.9 MB/s\u001b[0m eta \u001b[36m0:00:00\u001b[0m\n",
            "\u001b[?25hDownloading coloredlogs-15.0.1-py2.py3-none-any.whl (46 kB)\n",
            "\u001b[2K   \u001b[90m━━━━━━━━━━━━━━━━━━━━━━━━━━━━━━━━━━━━━━━━\u001b[0m \u001b[32m46.0/46.0 kB\u001b[0m \u001b[31m4.5 MB/s\u001b[0m eta \u001b[36m0:00:00\u001b[0m\n",
            "\u001b[?25hDownloading humanfriendly-10.0-py2.py3-none-any.whl (86 kB)\n",
            "\u001b[2K   \u001b[90m━━━━━━━━━━━━━━━━━━━━━━━━━━━━━━━━━━━━━━━━\u001b[0m \u001b[32m86.8/86.8 kB\u001b[0m \u001b[31m8.6 MB/s\u001b[0m eta \u001b[36m0:00:00\u001b[0m\n",
            "\u001b[?25hInstalling collected packages: humanfriendly, coloredlogs, onnxruntime\n",
            "Successfully installed coloredlogs-15.0.1 humanfriendly-10.0 onnxruntime-1.22.0\n"
          ]
        }
      ],
      "source": [
        "!pip install onnxruntime"
      ]
    },
    {
      "cell_type": "code",
      "execution_count": null,
      "metadata": {
        "id": "QaSUqx94ZRJq"
      },
      "outputs": [],
      "source": [
        "import onnxruntime"
      ]
    },
    {
      "cell_type": "code",
      "execution_count": null,
      "metadata": {
        "colab": {
          "base_uri": "https://localhost:8080/",
          "height": 463
        },
        "id": "f5Ge_dgc-Z2p",
        "outputId": "34637656-aa6a-483f-9ac6-66f2c8bf005d"
      },
      "outputs": [
        {
          "output_type": "stream",
          "name": "stderr",
          "text": [
            "/usr/local/lib/python3.11/dist-packages/onnxruntime/capi/onnxruntime_inference_collection.py:121: UserWarning: Specified provider 'CUDAExecutionProvider' is not in available provider names.Available providers: 'AzureExecutionProvider, CPUExecutionProvider'\n",
            "  warnings.warn(\n"
          ]
        },
        {
          "output_type": "display_data",
          "data": {
            "text/plain": [
              "<Figure size 640x480 with 1 Axes>"
            ],
            "image/png": "[encoded data removed]"
          },
          "metadata": {}
        }
      ],
      "source": [
        "import onnxruntime as ort\n",
        "import cv2\n",
        "import numpy as np\n",
        "\n",
        "# Paths\n",
        "onnx_model = \"/content/weights/best.onnx\"\n",
        "image_path = \"/content/patches/patch_0013.png\"\n",
        "img_size = 1792\n",
        "\n",
        "# Preprocess\n",
        "img = cv2.imread(image_path)\n",
        "img = cv2.resize(img, (img_size, img_size))\n",
        "img_input = img.astype(np.float32) / 255.0\n",
        "img_input = np.transpose(img_input, (2, 0, 1))  # HWC → CHW\n",
        "img_input = np.expand_dims(img_input, axis=0)   # CHW → NCHW\n",
        "\n",
        "# Inference\n",
        "session = ort.InferenceSession(onnx_model, providers=['CUDAExecutionProvider'])\n",
        "inputs = {session.get_inputs()[0].name: img_input}\n",
        "outputs = session.run(None, inputs)\n",
        "\n",
        "\n",
        "output = outputs[0]  # (1, 5, 65856)\n",
        "output = np.squeeze(output)         # → (5, 65856)\n",
        "output = np.transpose(output, (1, 0))  # → (65856, 5)\n",
        "\n",
        "\n",
        "import cv2\n",
        "import numpy as np\n",
        "import matplotlib.pyplot as plt\n",
        "\n",
        "# img_path = \"/content/patch_0006.png\"\n",
        "img = cv2.imread(image_path)\n",
        "\n",
        "# Collect boxes and scores\n",
        "boxes = []\n",
        "confidences = []\n",
        "\n",
        "for det in output:\n",
        "    x, y, w, h, conf = det\n",
        "    if conf < 0.2:\n",
        "        continue\n",
        "    x1 = int(x - w / 2)\n",
        "    y1 = int(y - h / 2)\n",
        "    x2 = int(x + w / 2)\n",
        "    y2 = int(y + h / 2)\n",
        "    boxes.append([x1, y1, x2 - x1, y2 - y1])  # (x, y, width, height)\n",
        "    confidences.append(float(conf))\n",
        "\n",
        "# Apply NMS\n",
        "indices = cv2.dnn.NMSBoxes(boxes, confidences, score_threshold=0.2, nms_threshold=0.4)\n",
        "\n",
        "# Draw final boxes\n",
        "for i in indices:\n",
        "    i = i[0] if isinstance(i, (list, np.ndarray)) else i\n",
        "    x, y, w, h = boxes[i]\n",
        "    cv2.rectangle(img, (x, y), (x + w, y + h), (0, 255, 0), 2)\n",
        "\n",
        "# Save and show\n",
        "cv2.imwrite(\"output.jpg\", img)\n",
        "plt.imshow(cv2.cvtColor(img, cv2.COLOR_BGR2RGB))\n",
        "plt.axis('off')\n",
        "plt.show()"
      ]
    },
    {
      "cell_type": "code",
      "source": [],
      "metadata": {
        "id": "D_Ztn-Xwd8kh"
      },
      "execution_count": null,
      "outputs": []
    },
    {
      "cell_type": "code",
      "source": [],
      "metadata": {
        "id": "9IEP4ikEdbFo"
      },
      "execution_count": null,
      "outputs": []
    },
    {
      "cell_type": "markdown",
      "source": [
        "## Execute Parallel Inference"
      ],
      "metadata": {
        "id": "5Nexd3GOow_v"
      }
    },
    {
      "cell_type": "code",
      "execution_count": null,
      "metadata": {
        "colab": {
          "base_uri": "https://localhost:8080/"
        },
        "id": "Z_OV1aacOQBh",
        "outputId": "4672f2b4-a9e6-4723-cde2-1d24bc9a7b7b"
      },
      "outputs": [
        {
          "name": "stdout",
          "output_type": "stream",
          "text": [
            "Inference completed for 3 patches.\n"
          ]
        }
      ],
      "source": [
        "import numpy as np\n",
        "import cv2\n",
        "import onnxruntime as ort\n",
        "from concurrent.futures import ProcessPoolExecutor\n",
        "import os\n",
        "\n",
        "# Path to model and image patches\n",
        "onnx_model_path = \"/content/weights/best.onnx\"\n",
        "patches_dir = \"/content/patches\"\n",
        "img_size = 1792\n",
        "\n",
        "# Global model session (one per process)\n",
        "session = None\n",
        "\n",
        "def init_model():\n",
        "    global session\n",
        "    session = ort.InferenceSession(onnx_model_path, providers=[\"CPUExecutionProvider\"])\n",
        "\n",
        "def run_patch_inference(patch_path: str):\n",
        "    global session\n",
        "    # Load the image patch\n",
        "    patch = cv2.imread(patch_path)\n",
        "    if patch is None:\n",
        "        raise ValueError(f\"Failed to read {patch_path}\")\n",
        "\n",
        "    # Resize if needed\n",
        "    if patch.shape[:2] != (img_size, img_size):\n",
        "        patch = cv2.resize(patch, (img_size, img_size))\n",
        "\n",
        "    # Normalize (optional - depends on training setup)\n",
        "    patch = patch.astype(np.float32) / 255.0\n",
        "\n",
        "    # Prepare input for ONNX model\n",
        "    patch_input = patch.transpose(2, 0, 1)  # HWC to CHW\n",
        "    patch_input = np.expand_dims(patch_input, axis=0)  # Add batch dim\n",
        "    input_name = session.get_inputs()[0].name\n",
        "\n",
        "    # Run inference\n",
        "    outputs = session.run(None, {input_name: patch_input})\n",
        "    return outputs\n",
        "\n",
        "if __name__ == \"__main__\":\n",
        "    # List of all image patch file paths\n",
        "    patch_paths = [os.path.join(patches_dir, f) for f in os.listdir(patches_dir) if f.lower().endswith(('.jpg', '.jpeg', '.png'))]\n",
        "\n",
        "    # Run inference in parallel\n",
        "    with ProcessPoolExecutor(max_workers=2, initializer=init_model) as executor:\n",
        "        results = list(executor.map(run_patch_inference, patch_paths))\n",
        "\n",
        "    print(f\"Inference completed for {len(results)} patches.\")\n"
      ]
    }
  ],
  "metadata": {
    "colab": {
      "provenance": [],
      "gpuType": "T4"
    },
    "kernelspec": {
      "display_name": "Python 3",
      "name": "python3"
    },
    "language_info": {
      "name": "python"
    },
    "accelerator": "GPU"
  },
  "nbformat": 4,
  "nbformat_minor": 0
}